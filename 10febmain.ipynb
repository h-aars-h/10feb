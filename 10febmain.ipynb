{
 "cells": [
  {
   "cell_type": "code",
   "execution_count": null,
   "id": "a83778bd-9011-4d07-a779-79f26c0ab2cb",
   "metadata": {},
   "outputs": [],
   "source": [
    "# Q1. Which function is used to open a file? What are the different modes of opening a file? Explain each mode\n",
    "# of file opening.\n",
    "# Ans1 =\n",
    "# f=open(\"text.txt\",\"a\")\n",
    "# r'       open for reading (default)\n",
    "# 'w'       open for writing, truncating the file first\n",
    "# 'x'       create a new file and open it for writing\n",
    "# 'a'       open for writing, appending to the end of the file if it exists\n",
    "# 'b'       binary mode\n",
    "# 't'       text mode (default)\n",
    "# '+'       open a disk file for updating (reading and writing)\n",
    "# 'U'       universal newline mode (deprecated)"
   ]
  },
  {
   "cell_type": "code",
   "execution_count": null,
   "id": "84752560-5ed5-4664-a565-e4d702a09fc9",
   "metadata": {},
   "outputs": [],
   "source": [
    "# Q2. Why close() function is used? Why is it important to close a file?\n",
    "# Ans 2 =  This is used for execute the file "
   ]
  },
  {
   "cell_type": "code",
   "execution_count": 19,
   "id": "3e3151ed-3182-45ca-a927-73777f4e0af1",
   "metadata": {},
   "outputs": [
    {
     "data": {
      "text/plain": [
       "33"
      ]
     },
     "execution_count": 19,
     "metadata": {},
     "output_type": "execute_result"
    }
   ],
   "source": [
    "# Q3. Write a python program to create a text file. Write ‘I want to become a Data Scientist’ in that file. Then\n",
    "# close the file. Open this file and read the content of the file.\n",
    "# ans 3\n",
    "data=open(\"text.txt\",\"w\")\n",
    "data.write(\"I want to become a Data Scientist\")\n"
   ]
  },
  {
   "cell_type": "code",
   "execution_count": 20,
   "id": "159b420a-0230-4d72-b149-34b3a7f4e3a4",
   "metadata": {},
   "outputs": [],
   "source": [
    "data.close()"
   ]
  },
  {
   "cell_type": "code",
   "execution_count": 22,
   "id": "78750e51-68c2-436b-b215-47264362c0e9",
   "metadata": {},
   "outputs": [],
   "source": [
    "data=open(\"text.txt\",\"r\")"
   ]
  },
  {
   "cell_type": "code",
   "execution_count": 25,
   "id": "1d581a70-e4d3-4736-9efa-229939d9123e",
   "metadata": {},
   "outputs": [
    {
     "data": {
      "text/plain": [
       "'I want to become a Data Scientist'"
      ]
     },
     "execution_count": 25,
     "metadata": {},
     "output_type": "execute_result"
    }
   ],
   "source": [
    "data.read()"
   ]
  },
  {
   "cell_type": "code",
   "execution_count": 33,
   "id": "e2e78a33-4780-44bb-ab7a-5389eb4afbe5",
   "metadata": {},
   "outputs": [
    {
     "data": {
      "text/plain": [
       "2"
      ]
     },
     "execution_count": 33,
     "metadata": {},
     "output_type": "execute_result"
    }
   ],
   "source": [
    "# Q4. Explain the following with python code: read(), readline() and readlines().\n",
    "# Ans4 = the read mode using to read any function and first one you command to access to read \"r\"\n",
    "data=open(\"text.txt\",\"r\")\n",
    "# data.read()\n",
    "data.readline()\n",
    "# the read line is using to read data but here goto the pointer is last line so here we seek\n",
    "data.seek(2)"
   ]
  },
  {
   "cell_type": "code",
   "execution_count": 34,
   "id": "2a170c03-dd3e-4529-a8f4-b1801590b309",
   "metadata": {},
   "outputs": [
    {
     "data": {
      "text/plain": [
       "'want to become a Data Scientist'"
      ]
     },
     "execution_count": 34,
     "metadata": {},
     "output_type": "execute_result"
    }
   ],
   "source": [
    "data.readline()"
   ]
  },
  {
   "cell_type": "code",
   "execution_count": 41,
   "id": "1d49902e-55ee-4c63-9791-9460304d8412",
   "metadata": {},
   "outputs": [
    {
     "data": {
      "text/plain": [
       "['I want to become a Data Scientist']"
      ]
     },
     "execution_count": 41,
     "metadata": {},
     "output_type": "execute_result"
    }
   ],
   "source": [
    "data.readlines() #this is using for data in list"
   ]
  },
  {
   "cell_type": "code",
   "execution_count": 42,
   "id": "a4e4fb7e-a849-4f33-8bc5-aef72242991a",
   "metadata": {},
   "outputs": [
    {
     "name": "stdout",
     "output_type": "stream",
     "text": [
      "I want to become a Data Scientist\n"
     ]
    }
   ],
   "source": [
    "# Q5. Explain why with statement is used with open(). What is the advantage of using with statement and\n",
    "# open() together?\n",
    "# Ans 5 this is use used to open and append any you want this is method to use.\n",
    "# The open() function is used to open a file and return a file object, which can be used to read or write data to the file. \n",
    "# By using the with statement with open().\n",
    "with open(\"text.txt\",\"r\") as h:    \n",
    "    print(h.read()) "
   ]
  },
  {
   "cell_type": "code",
   "execution_count": 46,
   "id": "1e45d728-a5dc-4806-827e-32e2d333e893",
   "metadata": {},
   "outputs": [],
   "source": [
    "# Q6. write() and writelines() are built-in methods used to write data to a file.\n",
    "# ans 6\n",
    "# The write() method is used to write a single string to a file. It takes a string as an argument and writes it\n",
    "# to the file. If the file is opened in write mode, the write() method will overwrite any existing data in the file.\n",
    "# If the file is opened in append mode, the write() \n",
    "# method will append the new data to the end of the file.\n",
    "# example \n",
    "with open(\"text.txt\",\"w\") as h:\n",
    "    h.write(\"this is my course\")\n",
    "# The writelines() method is used to write multiple strings to a file. It\n",
    "# takes a list of strings as an argument and writes them to the file.\n",
    "# Each string in the list is written as a separate line in the file. Like the write()\n"
   ]
  },
  {
   "cell_type": "code",
   "execution_count": null,
   "id": "21a8d211-16b6-4d6b-b996-b384d4c3c7aa",
   "metadata": {},
   "outputs": [],
   "source": []
  }
 ],
 "metadata": {
  "kernelspec": {
   "display_name": "Python 3 (ipykernel)",
   "language": "python",
   "name": "python3"
  },
  "language_info": {
   "codemirror_mode": {
    "name": "ipython",
    "version": 3
   },
   "file_extension": ".py",
   "mimetype": "text/x-python",
   "name": "python",
   "nbconvert_exporter": "python",
   "pygments_lexer": "ipython3",
   "version": "3.10.6"
  }
 },
 "nbformat": 4,
 "nbformat_minor": 5
}
